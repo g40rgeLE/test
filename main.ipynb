{
 "cells": [
  {
   "cell_type": "code",
   "execution_count": 1,
   "metadata": {},
   "outputs": [],
   "source": [
    "import numpy as np\n",
    "import time"
   ]
  },
  {
   "cell_type": "code",
   "execution_count": 3,
   "metadata": {},
   "outputs": [
    {
     "name": "stdout",
     "output_type": "stream",
     "text": [
      "red light\n",
      "green light\n",
      "red light\n",
      "green light\n",
      "red light\n",
      "green light\n",
      "red light\n",
      "green light\n",
      "red light\n",
      "green light\n"
     ]
    }
   ],
   "source": [
    "def GRL():\n",
    "    colors = np.array([\"red\", \"green\"])\n",
    "\n",
    "    for i in range(0, 10):\n",
    "        print(\"{color} light\".format(color = colors[i%2]))\n",
    "        time.sleep(3)\n",
    "\n",
    "GRL()"
   ]
  },
  {
   "cell_type": "code",
   "execution_count": null,
   "metadata": {},
   "outputs": [],
   "source": []
  }
 ],
 "metadata": {
  "kernelspec": {
   "display_name": "Python 3",
   "language": "python",
   "name": "python3"
  },
  "language_info": {
   "codemirror_mode": {
    "name": "ipython",
    "version": 3
   },
   "file_extension": ".py",
   "mimetype": "text/x-python",
   "name": "python",
   "nbconvert_exporter": "python",
   "pygments_lexer": "ipython3",
   "version": "3.11.5"
  },
  "orig_nbformat": 4
 },
 "nbformat": 4,
 "nbformat_minor": 2
}
